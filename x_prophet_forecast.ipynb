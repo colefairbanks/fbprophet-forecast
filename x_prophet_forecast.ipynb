{
 "cells": [
  {
   "cell_type": "markdown",
   "metadata": {
    "id": "aa5ce1bb-fcaa-4c8a-9d9f-a8af43958b67"
   },
   "source": [
    "# X Revenue Forecast\n",
    "\n",
    "<br>\n",
    "\n",
    "### FORECASTING CYCLICAL REVENUE USING FACEBOOK PROPHET\n",
    "*ADDITIVE LINEAR REGRESSION*\n",
    "\n",
    "**Author:** Cole Fairbanks, Data Scientist\n",
    "\n",
    "**Contact:** ccole.fairbanks@gmail.com | [LinkedIn](linkedin.com/in/colefairbanks)\n",
    "\n",
    "**About Prophet:**  Prophet is an open source library published by Facebook that is based on decomposable (trend+seasonality+holidays) models. It provides Analysts the ability to create accurate time series forecasts and add regressors as well as the flexibility to adjust parameters like seasonality and holidays.  Prophet is especially suited for revenue and other business-oriented data that has clear seasonality and spans a few years on a monthly or weekly basis.\n",
    "\n",
    "Regarding how Prophet was built, this alogrithm sees forecasting primarily as a curve fitting exercise using probabilistic techniques used in various well-known additive models like ARIMA. If you are interested in learning more about the mathematical components of Prophet, I suggest reading the original Prophet paper, [Forecasting at Scale](https://peerj.com/preprints/3190/), by Sean J Taylor, Benjamin Letham.\n",
    "\n",
    "**Business Challenge:**  Company X's Finance Dept., while able to confidently predict X hardware (HW) sales two years out, has struggled to produce accurate revenue forecasts for the maintenance (MA) side of their business, which is similar to Apple Care but for legacy servers. This is a problem for Finance, as these forecasts are the basis for  long-term budgets as well as short-term business decisions.  As a Data Scientist familiar with financial data, we have been asked to forecast MA revenue for one of Company X's flagship brands, X.  The CFO is particularly interested in having reliable automated forecasts that extend beyond 6 months, with an ideal time horizon of 24 months and a consistent accuracy of 92% or above.  Fortunately, upon initial inspection, X’s historical 10-year monthly MA revenue seems to follow a predictable pattern that may allow us to deliver on the CFO's expectations.  The challenge, however, will be to factor in the relationship between HW, MA, as well as X’s unique 2-year product life cycle.\n",
    "\n",
    "**Skills Needed to Operate:** Intermediate Python, numpy, pandas, matplotlib, basic statistics, and working knowledge of linear regression.\n",
    "\n",
    "**Language(s):** Python"
   ]
  },
  {
   "cell_type": "markdown",
   "metadata": {
    "id": "98c13af1c5b34e3f864be70e1f8c7794"
   },
   "source": [
    "### Installing Prophet Package"
   ]
  },
  {
   "cell_type": "code",
   "execution_count": 60,
   "metadata": {
    "id": "3692386ab0fe4a4bb74bd092fe42ec64"
   },
   "outputs": [
    {
     "name": "stdout",
     "output_type": "stream",
     "text": [
      "Collecting fbprophet\n",
      "  Using cached fbprophet-0.7.1.tar.gz (64 kB)\n",
      "Requirement already satisfied: Cython>=0.22 in /Users/colefairbanks/opt/anaconda3/lib/python3.9/site-packages (from fbprophet) (0.29.28)\n",
      "Requirement already satisfied: cmdstanpy==0.9.5 in /Users/colefairbanks/opt/anaconda3/lib/python3.9/site-packages (from fbprophet) (0.9.5)\n",
      "Requirement already satisfied: pystan>=2.14 in /Users/colefairbanks/opt/anaconda3/lib/python3.9/site-packages (from fbprophet) (3.5.0)\n",
      "Requirement already satisfied: numpy>=1.15.4 in /Users/colefairbanks/opt/anaconda3/lib/python3.9/site-packages (from fbprophet) (1.21.5)\n",
      "Requirement already satisfied: pandas>=1.0.4 in /Users/colefairbanks/opt/anaconda3/lib/python3.9/site-packages (from fbprophet) (1.4.2)\n",
      "Requirement already satisfied: matplotlib>=2.0.0 in /Users/colefairbanks/opt/anaconda3/lib/python3.9/site-packages (from fbprophet) (3.5.1)\n",
      "Requirement already satisfied: LunarCalendar>=0.0.9 in /Users/colefairbanks/opt/anaconda3/lib/python3.9/site-packages (from fbprophet) (0.0.9)\n",
      "Requirement already satisfied: convertdate>=2.1.2 in /Users/colefairbanks/opt/anaconda3/lib/python3.9/site-packages (from fbprophet) (2.4.0)\n",
      "Requirement already satisfied: holidays>=0.10.2 in /Users/colefairbanks/opt/anaconda3/lib/python3.9/site-packages (from fbprophet) (0.14.2)\n",
      "Requirement already satisfied: setuptools-git>=1.2 in /Users/colefairbanks/opt/anaconda3/lib/python3.9/site-packages (from fbprophet) (1.2)\n",
      "Requirement already satisfied: python-dateutil>=2.8.0 in /Users/colefairbanks/opt/anaconda3/lib/python3.9/site-packages (from fbprophet) (2.8.2)\n",
      "Requirement already satisfied: tqdm>=4.36.1 in /Users/colefairbanks/opt/anaconda3/lib/python3.9/site-packages (from fbprophet) (4.64.0)\n",
      "Requirement already satisfied: pymeeus<=1,>=0.3.13 in /Users/colefairbanks/opt/anaconda3/lib/python3.9/site-packages (from convertdate>=2.1.2->fbprophet) (0.5.11)\n",
      "Requirement already satisfied: hijri-converter in /Users/colefairbanks/opt/anaconda3/lib/python3.9/site-packages (from holidays>=0.10.2->fbprophet) (2.2.4)\n",
      "Requirement already satisfied: korean-lunar-calendar in /Users/colefairbanks/opt/anaconda3/lib/python3.9/site-packages (from holidays>=0.10.2->fbprophet) (0.2.1)\n",
      "Requirement already satisfied: pytz in /Users/colefairbanks/opt/anaconda3/lib/python3.9/site-packages (from LunarCalendar>=0.0.9->fbprophet) (2021.3)\n",
      "Requirement already satisfied: ephem>=3.7.5.3 in /Users/colefairbanks/opt/anaconda3/lib/python3.9/site-packages (from LunarCalendar>=0.0.9->fbprophet) (4.1.3)\n",
      "Requirement already satisfied: kiwisolver>=1.0.1 in /Users/colefairbanks/opt/anaconda3/lib/python3.9/site-packages (from matplotlib>=2.0.0->fbprophet) (1.3.2)\n",
      "Requirement already satisfied: fonttools>=4.22.0 in /Users/colefairbanks/opt/anaconda3/lib/python3.9/site-packages (from matplotlib>=2.0.0->fbprophet) (4.25.0)\n",
      "Requirement already satisfied: packaging>=20.0 in /Users/colefairbanks/opt/anaconda3/lib/python3.9/site-packages (from matplotlib>=2.0.0->fbprophet) (21.3)\n",
      "Requirement already satisfied: pyparsing>=2.2.1 in /Users/colefairbanks/opt/anaconda3/lib/python3.9/site-packages (from matplotlib>=2.0.0->fbprophet) (3.0.4)\n",
      "Requirement already satisfied: pillow>=6.2.0 in /Users/colefairbanks/opt/anaconda3/lib/python3.9/site-packages (from matplotlib>=2.0.0->fbprophet) (9.0.1)\n",
      "Requirement already satisfied: cycler>=0.10 in /Users/colefairbanks/opt/anaconda3/lib/python3.9/site-packages (from matplotlib>=2.0.0->fbprophet) (0.11.0)\n",
      "Requirement already satisfied: setuptools in /Users/colefairbanks/opt/anaconda3/lib/python3.9/site-packages (from pystan>=2.14->fbprophet) (61.2.0)\n",
      "Requirement already satisfied: clikit<0.7,>=0.6 in /Users/colefairbanks/opt/anaconda3/lib/python3.9/site-packages (from pystan>=2.14->fbprophet) (0.6.2)\n",
      "Requirement already satisfied: pysimdjson<4.0,>=3.2 in /Users/colefairbanks/opt/anaconda3/lib/python3.9/site-packages (from pystan>=2.14->fbprophet) (3.2.0)\n",
      "Requirement already satisfied: httpstan<4.9,>=4.8 in /Users/colefairbanks/opt/anaconda3/lib/python3.9/site-packages (from pystan>=2.14->fbprophet) (4.8.0)\n",
      "Requirement already satisfied: aiohttp<4.0,>=3.6 in /Users/colefairbanks/opt/anaconda3/lib/python3.9/site-packages (from pystan>=2.14->fbprophet) (3.8.1)\n",
      "Requirement already satisfied: charset-normalizer<3.0,>=2.0 in /Users/colefairbanks/opt/anaconda3/lib/python3.9/site-packages (from aiohttp<4.0,>=3.6->pystan>=2.14->fbprophet) (2.0.4)\n",
      "Requirement already satisfied: attrs>=17.3.0 in /Users/colefairbanks/opt/anaconda3/lib/python3.9/site-packages (from aiohttp<4.0,>=3.6->pystan>=2.14->fbprophet) (21.4.0)\n",
      "Requirement already satisfied: async-timeout<5.0,>=4.0.0a3 in /Users/colefairbanks/opt/anaconda3/lib/python3.9/site-packages (from aiohttp<4.0,>=3.6->pystan>=2.14->fbprophet) (4.0.1)\n",
      "Requirement already satisfied: multidict<7.0,>=4.5 in /Users/colefairbanks/opt/anaconda3/lib/python3.9/site-packages (from aiohttp<4.0,>=3.6->pystan>=2.14->fbprophet) (5.2.0)\n",
      "Requirement already satisfied: aiosignal>=1.1.2 in /Users/colefairbanks/opt/anaconda3/lib/python3.9/site-packages (from aiohttp<4.0,>=3.6->pystan>=2.14->fbprophet) (1.2.0)\n",
      "Requirement already satisfied: frozenlist>=1.1.1 in /Users/colefairbanks/opt/anaconda3/lib/python3.9/site-packages (from aiohttp<4.0,>=3.6->pystan>=2.14->fbprophet) (1.2.0)\n",
      "Requirement already satisfied: yarl<2.0,>=1.0 in /Users/colefairbanks/opt/anaconda3/lib/python3.9/site-packages (from aiohttp<4.0,>=3.6->pystan>=2.14->fbprophet) (1.6.3)\n",
      "Requirement already satisfied: typing-extensions>=3.6.5 in /Users/colefairbanks/opt/anaconda3/lib/python3.9/site-packages (from async-timeout<5.0,>=4.0.0a3->aiohttp<4.0,>=3.6->pystan>=2.14->fbprophet) (4.1.1)\n",
      "Requirement already satisfied: pylev<2.0,>=1.3 in /Users/colefairbanks/opt/anaconda3/lib/python3.9/site-packages (from clikit<0.7,>=0.6->pystan>=2.14->fbprophet) (1.4.0)\n",
      "Requirement already satisfied: pastel<0.3.0,>=0.2.0 in /Users/colefairbanks/opt/anaconda3/lib/python3.9/site-packages (from clikit<0.7,>=0.6->pystan>=2.14->fbprophet) (0.2.1)\n",
      "Requirement already satisfied: crashtest<0.4.0,>=0.3.0 in /Users/colefairbanks/opt/anaconda3/lib/python3.9/site-packages (from clikit<0.7,>=0.6->pystan>=2.14->fbprophet) (0.3.1)\n",
      "Requirement already satisfied: appdirs<2.0,>=1.4 in /Users/colefairbanks/opt/anaconda3/lib/python3.9/site-packages (from httpstan<4.9,>=4.8->pystan>=2.14->fbprophet) (1.4.4)\n",
      "Requirement already satisfied: marshmallow<4.0,>=3.10 in /Users/colefairbanks/opt/anaconda3/lib/python3.9/site-packages (from httpstan<4.9,>=4.8->pystan>=2.14->fbprophet) (3.17.0)\n",
      "Requirement already satisfied: webargs<9.0,>=8.0 in /Users/colefairbanks/opt/anaconda3/lib/python3.9/site-packages (from httpstan<4.9,>=4.8->pystan>=2.14->fbprophet) (8.2.0)\n",
      "Requirement already satisfied: six>=1.5 in /Users/colefairbanks/opt/anaconda3/lib/python3.9/site-packages (from python-dateutil>=2.8.0->fbprophet) (1.16.0)\n",
      "Requirement already satisfied: idna>=2.0 in /Users/colefairbanks/opt/anaconda3/lib/python3.9/site-packages (from yarl<2.0,>=1.0->aiohttp<4.0,>=3.6->pystan>=2.14->fbprophet) (3.3)\n",
      "Building wheels for collected packages: fbprophet\n",
      "  Building wheel for fbprophet (setup.py) ... \u001b[?25lerror\n",
      "\u001b[31m  ERROR: Command errored out with exit status 1:\n",
      "   command: /Users/colefairbanks/opt/anaconda3/bin/python -u -c 'import io, os, sys, setuptools, tokenize; sys.argv[0] = '\"'\"'/private/var/folders/wm/6sbq204n3_5fznd4svzm3bph0000gn/T/pip-install-cwv_ba7t/fbprophet_894eea92ee2045779c185c7428532147/setup.py'\"'\"'; __file__='\"'\"'/private/var/folders/wm/6sbq204n3_5fznd4svzm3bph0000gn/T/pip-install-cwv_ba7t/fbprophet_894eea92ee2045779c185c7428532147/setup.py'\"'\"';f = getattr(tokenize, '\"'\"'open'\"'\"', open)(__file__) if os.path.exists(__file__) else io.StringIO('\"'\"'from setuptools import setup; setup()'\"'\"');code = f.read().replace('\"'\"'\\r\\n'\"'\"', '\"'\"'\\n'\"'\"');f.close();exec(compile(code, __file__, '\"'\"'exec'\"'\"'))' bdist_wheel -d /private/var/folders/wm/6sbq204n3_5fznd4svzm3bph0000gn/T/pip-wheel-av_bdn0u\n",
      "       cwd: /private/var/folders/wm/6sbq204n3_5fznd4svzm3bph0000gn/T/pip-install-cwv_ba7t/fbprophet_894eea92ee2045779c185c7428532147/\n",
      "  Complete output (47 lines):\n",
      "  running bdist_wheel\n",
      "  running build\n",
      "  running build_py\n",
      "  creating build\n",
      "  creating build/lib\n",
      "  creating build/lib/fbprophet\n",
      "  creating build/lib/fbprophet/stan_model\n",
      "  NumExpr defaulting to 4 threads.\n",
      "  Traceback (most recent call last):\n",
      "    File \"<string>\", line 1, in <module>\n",
      "    File \"/private/var/folders/wm/6sbq204n3_5fznd4svzm3bph0000gn/T/pip-install-cwv_ba7t/fbprophet_894eea92ee2045779c185c7428532147/setup.py\", line 122, in <module>\n",
      "      setup(\n",
      "    File \"/Users/colefairbanks/opt/anaconda3/lib/python3.9/site-packages/setuptools/__init__.py\", line 87, in setup\n",
      "      return distutils.core.setup(**attrs)\n",
      "    File \"/Users/colefairbanks/opt/anaconda3/lib/python3.9/site-packages/setuptools/_distutils/core.py\", line 148, in setup\n",
      "      return run_commands(dist)\n",
      "    File \"/Users/colefairbanks/opt/anaconda3/lib/python3.9/site-packages/setuptools/_distutils/core.py\", line 163, in run_commands\n",
      "      dist.run_commands()\n",
      "    File \"/Users/colefairbanks/opt/anaconda3/lib/python3.9/site-packages/setuptools/_distutils/dist.py\", line 967, in run_commands\n",
      "      self.run_command(cmd)\n",
      "    File \"/Users/colefairbanks/opt/anaconda3/lib/python3.9/site-packages/setuptools/dist.py\", line 1214, in run_command\n",
      "      super().run_command(command)\n",
      "    File \"/Users/colefairbanks/opt/anaconda3/lib/python3.9/site-packages/setuptools/_distutils/dist.py\", line 986, in run_command\n",
      "      cmd_obj.run()\n",
      "    File \"/Users/colefairbanks/opt/anaconda3/lib/python3.9/site-packages/wheel/bdist_wheel.py\", line 299, in run\n",
      "      self.run_command('build')\n",
      "    File \"/Users/colefairbanks/opt/anaconda3/lib/python3.9/site-packages/setuptools/_distutils/cmd.py\", line 313, in run_command\n",
      "      self.distribution.run_command(command)\n",
      "    File \"/Users/colefairbanks/opt/anaconda3/lib/python3.9/site-packages/setuptools/dist.py\", line 1214, in run_command\n",
      "      super().run_command(command)\n",
      "    File \"/Users/colefairbanks/opt/anaconda3/lib/python3.9/site-packages/setuptools/_distutils/dist.py\", line 986, in run_command\n",
      "      cmd_obj.run()\n",
      "    File \"/Users/colefairbanks/opt/anaconda3/lib/python3.9/site-packages/setuptools/_distutils/command/build.py\", line 135, in run\n",
      "      self.run_command(cmd_name)\n",
      "    File \"/Users/colefairbanks/opt/anaconda3/lib/python3.9/site-packages/setuptools/_distutils/cmd.py\", line 313, in run_command\n",
      "      self.distribution.run_command(command)\n",
      "    File \"/Users/colefairbanks/opt/anaconda3/lib/python3.9/site-packages/setuptools/dist.py\", line 1214, in run_command\n",
      "      super().run_command(command)\n",
      "    File \"/Users/colefairbanks/opt/anaconda3/lib/python3.9/site-packages/setuptools/_distutils/dist.py\", line 986, in run_command\n",
      "      cmd_obj.run()\n",
      "    File \"/private/var/folders/wm/6sbq204n3_5fznd4svzm3bph0000gn/T/pip-install-cwv_ba7t/fbprophet_894eea92ee2045779c185c7428532147/setup.py\", line 48, in run\n",
      "      build_models(target_dir)\n",
      "    File \"/private/var/folders/wm/6sbq204n3_5fznd4svzm3bph0000gn/T/pip-install-cwv_ba7t/fbprophet_894eea92ee2045779c185c7428532147/setup.py\", line 38, in build_models\n",
      "      StanBackendEnum.get_backend_class(backend).build_model(target_dir, MODEL_DIR)\n",
      "    File \"/private/var/folders/wm/6sbq204n3_5fznd4svzm3bph0000gn/T/pip-install-cwv_ba7t/fbprophet_894eea92ee2045779c185c7428532147/fbprophet/models.py\", line 209, in build_model\n",
      "      import pystan\n",
      "  ModuleNotFoundError: No module named 'pystan'\n",
      "  ----------------------------------------\u001b[0m\n",
      "\u001b[31m  ERROR: Failed building wheel for fbprophet\u001b[0m\n",
      "\u001b[?25h  Running setup.py clean for fbprophet\n"
     ]
    },
    {
     "name": "stdout",
     "output_type": "stream",
     "text": [
      "Failed to build fbprophet\n",
      "Installing collected packages: fbprophet\n",
      "    Running setup.py install for fbprophet ... \u001b[?25lerror\n",
      "\u001b[31m    ERROR: Command errored out with exit status 1:\n",
      "     command: /Users/colefairbanks/opt/anaconda3/bin/python -u -c 'import io, os, sys, setuptools, tokenize; sys.argv[0] = '\"'\"'/private/var/folders/wm/6sbq204n3_5fznd4svzm3bph0000gn/T/pip-install-cwv_ba7t/fbprophet_894eea92ee2045779c185c7428532147/setup.py'\"'\"'; __file__='\"'\"'/private/var/folders/wm/6sbq204n3_5fznd4svzm3bph0000gn/T/pip-install-cwv_ba7t/fbprophet_894eea92ee2045779c185c7428532147/setup.py'\"'\"';f = getattr(tokenize, '\"'\"'open'\"'\"', open)(__file__) if os.path.exists(__file__) else io.StringIO('\"'\"'from setuptools import setup; setup()'\"'\"');code = f.read().replace('\"'\"'\\r\\n'\"'\"', '\"'\"'\\n'\"'\"');f.close();exec(compile(code, __file__, '\"'\"'exec'\"'\"'))' install --record /private/var/folders/wm/6sbq204n3_5fznd4svzm3bph0000gn/T/pip-record-5okusj9g/install-record.txt --single-version-externally-managed --compile --install-headers /Users/colefairbanks/opt/anaconda3/include/python3.9/fbprophet\n",
      "         cwd: /private/var/folders/wm/6sbq204n3_5fznd4svzm3bph0000gn/T/pip-install-cwv_ba7t/fbprophet_894eea92ee2045779c185c7428532147/\n",
      "    Complete output (51 lines):\n",
      "    running install\n",
      "    /Users/colefairbanks/opt/anaconda3/lib/python3.9/site-packages/setuptools/command/install.py:34: SetuptoolsDeprecationWarning: setup.py install is deprecated. Use build and pip and other standards-based tools.\n",
      "      warnings.warn(\n",
      "    running build\n",
      "    running build_py\n",
      "    creating build\n",
      "    creating build/lib\n",
      "    creating build/lib/fbprophet\n",
      "    creating build/lib/fbprophet/stan_model\n",
      "    NumExpr defaulting to 4 threads.\n",
      "    Traceback (most recent call last):\n",
      "      File \"<string>\", line 1, in <module>\n",
      "      File \"/private/var/folders/wm/6sbq204n3_5fznd4svzm3bph0000gn/T/pip-install-cwv_ba7t/fbprophet_894eea92ee2045779c185c7428532147/setup.py\", line 122, in <module>\n",
      "        setup(\n",
      "      File \"/Users/colefairbanks/opt/anaconda3/lib/python3.9/site-packages/setuptools/__init__.py\", line 87, in setup\n",
      "        return distutils.core.setup(**attrs)\n",
      "      File \"/Users/colefairbanks/opt/anaconda3/lib/python3.9/site-packages/setuptools/_distutils/core.py\", line 148, in setup\n",
      "        return run_commands(dist)\n",
      "      File \"/Users/colefairbanks/opt/anaconda3/lib/python3.9/site-packages/setuptools/_distutils/core.py\", line 163, in run_commands\n",
      "        dist.run_commands()\n",
      "      File \"/Users/colefairbanks/opt/anaconda3/lib/python3.9/site-packages/setuptools/_distutils/dist.py\", line 967, in run_commands\n",
      "        self.run_command(cmd)\n",
      "      File \"/Users/colefairbanks/opt/anaconda3/lib/python3.9/site-packages/setuptools/dist.py\", line 1214, in run_command\n",
      "        super().run_command(command)\n",
      "      File \"/Users/colefairbanks/opt/anaconda3/lib/python3.9/site-packages/setuptools/_distutils/dist.py\", line 986, in run_command\n",
      "        cmd_obj.run()\n",
      "      File \"/Users/colefairbanks/opt/anaconda3/lib/python3.9/site-packages/setuptools/command/install.py\", line 68, in run\n",
      "        return orig.install.run(self)\n",
      "      File \"/Users/colefairbanks/opt/anaconda3/lib/python3.9/site-packages/setuptools/_distutils/command/install.py\", line 664, in run\n",
      "        self.run_command('build')\n",
      "      File \"/Users/colefairbanks/opt/anaconda3/lib/python3.9/site-packages/setuptools/_distutils/cmd.py\", line 313, in run_command\n",
      "        self.distribution.run_command(command)\n",
      "      File \"/Users/colefairbanks/opt/anaconda3/lib/python3.9/site-packages/setuptools/dist.py\", line 1214, in run_command\n",
      "        super().run_command(command)\n",
      "      File \"/Users/colefairbanks/opt/anaconda3/lib/python3.9/site-packages/setuptools/_distutils/dist.py\", line 986, in run_command\n",
      "        cmd_obj.run()\n",
      "      File \"/Users/colefairbanks/opt/anaconda3/lib/python3.9/site-packages/setuptools/_distutils/command/build.py\", line 135, in run\n",
      "        self.run_command(cmd_name)\n",
      "      File \"/Users/colefairbanks/opt/anaconda3/lib/python3.9/site-packages/setuptools/_distutils/cmd.py\", line 313, in run_command\n",
      "        self.distribution.run_command(command)\n",
      "      File \"/Users/colefairbanks/opt/anaconda3/lib/python3.9/site-packages/setuptools/dist.py\", line 1214, in run_command\n",
      "        super().run_command(command)\n",
      "      File \"/Users/colefairbanks/opt/anaconda3/lib/python3.9/site-packages/setuptools/_distutils/dist.py\", line 986, in run_command\n",
      "        cmd_obj.run()\n",
      "      File \"/private/var/folders/wm/6sbq204n3_5fznd4svzm3bph0000gn/T/pip-install-cwv_ba7t/fbprophet_894eea92ee2045779c185c7428532147/setup.py\", line 48, in run\n",
      "        build_models(target_dir)\n",
      "      File \"/private/var/folders/wm/6sbq204n3_5fznd4svzm3bph0000gn/T/pip-install-cwv_ba7t/fbprophet_894eea92ee2045779c185c7428532147/setup.py\", line 38, in build_models\n",
      "        StanBackendEnum.get_backend_class(backend).build_model(target_dir, MODEL_DIR)\n",
      "      File \"/private/var/folders/wm/6sbq204n3_5fznd4svzm3bph0000gn/T/pip-install-cwv_ba7t/fbprophet_894eea92ee2045779c185c7428532147/fbprophet/models.py\", line 209, in build_model\n",
      "        import pystan\n",
      "    ModuleNotFoundError: No module named 'pystan'\n",
      "    ----------------------------------------\u001b[0m\n",
      "\u001b[31mERROR: Command errored out with exit status 1: /Users/colefairbanks/opt/anaconda3/bin/python -u -c 'import io, os, sys, setuptools, tokenize; sys.argv[0] = '\"'\"'/private/var/folders/wm/6sbq204n3_5fznd4svzm3bph0000gn/T/pip-install-cwv_ba7t/fbprophet_894eea92ee2045779c185c7428532147/setup.py'\"'\"'; __file__='\"'\"'/private/var/folders/wm/6sbq204n3_5fznd4svzm3bph0000gn/T/pip-install-cwv_ba7t/fbprophet_894eea92ee2045779c185c7428532147/setup.py'\"'\"';f = getattr(tokenize, '\"'\"'open'\"'\"', open)(__file__) if os.path.exists(__file__) else io.StringIO('\"'\"'from setuptools import setup; setup()'\"'\"');code = f.read().replace('\"'\"'\\r\\n'\"'\"', '\"'\"'\\n'\"'\"');f.close();exec(compile(code, __file__, '\"'\"'exec'\"'\"'))' install --record /private/var/folders/wm/6sbq204n3_5fznd4svzm3bph0000gn/T/pip-record-5okusj9g/install-record.txt --single-version-externally-managed --compile --install-headers /Users/colefairbanks/opt/anaconda3/include/python3.9/fbprophet Check the logs for full command output.\u001b[0m\n",
      "\u001b[?25h"
     ]
    }
   ],
   "source": [
    "!pip install fbprophet"
   ]
  },
  {
   "cell_type": "markdown",
   "metadata": {
    "id": "d1ac77a7ea8749d2b7f893fbab545860"
   },
   "source": [
    "### Loading Libraries"
   ]
  },
  {
   "cell_type": "code",
   "execution_count": 61,
   "metadata": {
    "id": "403db053fe61451bb4f377d529fa4d8a"
   },
   "outputs": [
    {
     "ename": "ModuleNotFoundError",
     "evalue": "No module named 'fbprophet'",
     "output_type": "error",
     "traceback": [
      "\u001b[0;31m---------------------------------------------------------------------------\u001b[0m",
      "\u001b[0;31mModuleNotFoundError\u001b[0m                       Traceback (most recent call last)",
      "Input \u001b[0;32mIn [61]\u001b[0m, in \u001b[0;36m<cell line: 8>\u001b[0;34m()\u001b[0m\n\u001b[1;32m      6\u001b[0m \u001b[38;5;28;01mimport\u001b[39;00m \u001b[38;5;21;01mdatetime\u001b[39;00m \u001b[38;5;28;01mas\u001b[39;00m \u001b[38;5;21;01mdt\u001b[39;00m\n\u001b[1;32m      7\u001b[0m \u001b[38;5;28;01mimport\u001b[39;00m \u001b[38;5;21;01mscipy\u001b[39;00m\u001b[38;5;21;01m.\u001b[39;00m\u001b[38;5;21;01mstats\u001b[39;00m \u001b[38;5;28;01mas\u001b[39;00m \u001b[38;5;21;01mstats\u001b[39;00m\n\u001b[0;32m----> 8\u001b[0m \u001b[38;5;28;01mfrom\u001b[39;00m \u001b[38;5;21;01mfbprophet\u001b[39;00m \u001b[38;5;28;01mimport\u001b[39;00m Prophet\n\u001b[1;32m      9\u001b[0m \u001b[38;5;28;01mimport\u001b[39;00m \u001b[38;5;21;01mmatplotlib\u001b[39;00m\u001b[38;5;21;01m.\u001b[39;00m\u001b[38;5;21;01mpyplot\u001b[39;00m \u001b[38;5;28;01mas\u001b[39;00m \u001b[38;5;21;01mplt\u001b[39;00m\n\u001b[1;32m     10\u001b[0m \u001b[38;5;28;01mimport\u001b[39;00m \u001b[38;5;21;01mmatplotlib\u001b[39;00m\u001b[38;5;21;01m.\u001b[39;00m\u001b[38;5;21;01mdates\u001b[39;00m \u001b[38;5;28;01mas\u001b[39;00m \u001b[38;5;21;01mmdates\u001b[39;00m\n",
      "\u001b[0;31mModuleNotFoundError\u001b[0m: No module named 'fbprophet'"
     ]
    }
   ],
   "source": [
    "import math\n",
    "import warnings\n",
    "import calendar\n",
    "import numpy as np\n",
    "import pandas as pd\n",
    "import datetime as dt\n",
    "import scipy.stats as stats\n",
    "from fbprophet import Prophet\n",
    "import matplotlib.pyplot as plt\n",
    "import matplotlib.dates as mdates\n",
    "from sklearn.metrics import mean_squared_error\n",
    "from statsmodels.tools.eval_measures import rmse\n",
    "from fbprophet.plot import add_changepoints_to_plot\n",
    "from fbprophet.plot import plot_cross_validation_metric\n",
    "from fbprophet.diagnostics import cross_validation,performance_metrics"
   ]
  },
  {
   "cell_type": "markdown",
   "metadata": {
    "id": "762f0675-9fae-441a-826e-2d71a904c7d2"
   },
   "source": [
    "### Input\n",
    "\n",
    "This model has been optimized for 2 year forecasts, or 26 months due to the nature of Z's 2 year product life cycle and the Z HW regressor column.  However, you may choose how many months out you would like to forecast by typing in the number of desired months below:"
   ]
  },
  {
   "cell_type": "code",
   "execution_count": null,
   "metadata": {
    "id": "6069d0fc-edbd-41ab-a229-8db41525bc09"
   },
   "outputs": [],
   "source": [
    "months_out = 26"
   ]
  },
  {
   "cell_type": "markdown",
   "metadata": {
    "id": "3a21076f96fd40359bc4a7a0a8994829"
   },
   "source": [
    "### Reading in CSV"
   ]
  },
  {
   "cell_type": "code",
   "execution_count": null,
   "metadata": {
    "id": "362d28a3c7424046a53592e8f88ef874"
   },
   "outputs": [],
   "source": [
    "actuals_df = pd.read_csv('/Users/colefairbanks/github/fbprophet-xforecast/historical_x_revenue.csv')"
   ]
  },
  {
   "cell_type": "markdown",
   "metadata": {
    "id": "8883706f-5bcd-452c-bb02-81c14da7ffae"
   },
   "source": [
    "### Formating X Revenue Data Into\n",
    "\n",
    "The format of the dataframe is very important to Prophet.  The date column, for example needs to be labeled as \"ds\" and contain datetime data.  In addition, the forecast model output or y must be labeled as \"y\".  In this case, our y values will reflect hardware maintenence revenue (HWMA).  Because Finance has also provided HW (not maintenence) revenue, we will use it within this model as a regressor, given thier inverse relationship.  There are no requirements for regressor labels and so, we will label it \"hw\"."
   ]
  },
  {
   "cell_type": "code",
   "execution_count": null,
   "metadata": {
    "id": "37801c78-61f8-4fe9-a234-fbe2bd86138d"
   },
   "outputs": [],
   "source": [
    "#converting Date column to datetime type\n",
    "actuals_df['Date'] = pd.to_datetime(actuals_df['Date'])\n",
    "\n",
    "#grabbing relevant columns from dataframe\n",
    "actuals_df = actuals_df[['Date','Revenue_XMA_M','Revenue_XHW_M']].reset_index(drop=True)\n",
    "\n",
    "#renaming columns to comply with fbprophet format\n",
    "actuals_df.columns = ['ds','y','hw']\n",
    "\n",
    "#view last 5 rows of actuals_df\n",
    "actuals_df.tail()"
   ]
  },
  {
   "cell_type": "markdown",
   "metadata": {},
   "source": [
    "#### Formatting Regressor - Quick Note"
   ]
  },
  {
   "cell_type": "markdown",
   "metadata": {},
   "source": [
    "After speaking with product X's business leaders and conducting an initial analysis of the data, it became clear that HW sales impact MA sales roughly 26 months later, which is consistent with X's 2-year product life cycle.  According to the business, once a new product is released, old machines that have maintenence attached are replaced with newer machines that come with a 2-year warranty.  This negatively affects MA revenue.  However, after 2 years, the warranties expire and MA revenue picks up again, which we will in upcoming visualizations.\n",
    "\n",
    "To avoid overcomplicating the notebook, I formatted the csv file so that all we need to do is shift the hardware revenue column 26 periods (months) in the future so that it correlates with the MA revenue,"
   ]
  },
  {
   "cell_type": "code",
   "execution_count": null,
   "metadata": {
    "id": "2cc719cc-6ddc-4a78-ba50-55921dbbcaec"
   },
   "outputs": [],
   "source": [
    "#creating a new df that only has date and hw\n",
    "hw_df = actuals_df[['ds','hw']]\n",
    "\n",
    "#setting the index to the date\n",
    "hw_df = hw_df.set_index('ds')\n",
    "\n",
    "#shifting index 26 periods into the future\n",
    "hw_df = hw_df.shift(periods=26,freq='M')"
   ]
  },
  {
   "cell_type": "code",
   "execution_count": null,
   "metadata": {
    "id": "66b6f288-cf99-4c72-8cea-98c38f890f89"
   },
   "outputs": [],
   "source": [
    "#grabbing only date and ma revenue from actuals df\n",
    "actuals_df = actuals_df[['ds','y']]\n",
    "\n",
    "#setting the index to the date\n",
    "actuals_df = actuals_df.set_index('ds')\n",
    "\n",
    "#converting 1st day of month to last day of month to match hw_df\n",
    "actuals_df = actuals_df.shift(periods=1,freq='M')\n",
    "\n",
    "#concatenating both dataframes and reassigning as actuals_df\n",
    "actuals_df = pd.concat([actuals_df, hw_df], axis = 1)\n",
    "\n",
    "#resetting index so format complies with fbprophet\n",
    "actuals_df = actuals_df.reset_index(drop=False)"
   ]
  },
  {
   "cell_type": "code",
   "execution_count": null,
   "metadata": {
    "id": "de2a6c87-6b67-40fa-b843-845f759d5f25"
   },
   "outputs": [],
   "source": [
    "#converting all 0s to None\n",
    "actuals_df.loc[(actuals_df['y'] == 0), 'y'] = None\n",
    "\n",
    "#dropping nans within hw column, which represents the prior 26 months that we shifted past\n",
    "actuals_df = actuals_df.dropna(subset=['hw']).reset_index(drop=True)"
   ]
  },
  {
   "cell_type": "markdown",
   "metadata": {},
   "source": [
    "Just to prove the two columns are now correlated, we can do a simple test."
   ]
  },
  {
   "cell_type": "code",
   "execution_count": null,
   "metadata": {
    "id": "ff724e5f-88af-4e3d-a0d8-6cea417252f7"
   },
   "outputs": [],
   "source": [
    "actuals_df['y'].corr(actuals_df['hw'])"
   ]
  },
  {
   "cell_type": "markdown",
   "metadata": {},
   "source": [
    ".65 represents a moderately positive relationship, which makes sense because we are essentially aligning these two product life cycles (HW and MA) so that they run parallel to one another."
   ]
  },
  {
   "cell_type": "code",
   "execution_count": null,
   "metadata": {},
   "outputs": [],
   "source": [
    "actuals_df[120:127]"
   ]
  },
  {
   "cell_type": "markdown",
   "metadata": {
    "id": "83fbc2a7-ae8c-40a8-830d-5446f8762621"
   },
   "source": [
    "#### Plotting Revenue Actuals"
   ]
  },
  {
   "cell_type": "markdown",
   "metadata": {
    "id": "6eda7d99-3346-43be-bc77-c17ec5217c72"
   },
   "source": [
    "This is a visual representation of X MA revenue, represented by the y axis. The date represents by the x axis.   Visual aids are important to any Analyst planning to build or maintain simialar models, given the complexities of formatting data and operating the algorithms themselves.  Graphs like this one give Analysts a sense of verification they are operating the model correctly. For that reason, we will continue to visualize our steps and end product with matplotlib. "
   ]
  },
  {
   "cell_type": "code",
   "execution_count": null,
   "metadata": {},
   "outputs": [],
   "source": [
    "actuals_df2.index.year[0].astype(str)"
   ]
  },
  {
   "cell_type": "code",
   "execution_count": null,
   "metadata": {},
   "outputs": [],
   "source": [
    "actuals_df2"
   ]
  },
  {
   "cell_type": "code",
   "execution_count": null,
   "metadata": {
    "id": "ac7ee491-4539-4271-b537-3c292377b241"
   },
   "outputs": [],
   "source": [
    "actuals_df2 = actuals_df.copy()\n",
    "actuals_df2 = actuals_df2.set_index('ds')\n",
    "\n",
    "year_begin = actuals_df2.index.year[0].astype(str)\n",
    "year_end = actuals_df2.index.year[-1].astype(str)\n",
    "    \n",
    "title='TACORP GP Actuals \\n' + year_begin + ' - ' + year_end\n",
    "ylabel='GP ($ millions)'\n",
    "xlabel=''\n",
    "    \n",
    "ax = actuals_df2['y'].plot(legend=True,figsize=(15,6),title=title,label='Actuals',marker='o',color='#4B6BAF')\n",
    "    \n",
    "ax.autoscale(axis='x',tight=True)\n",
    "ax.set(xlabel=xlabel, ylabel=ylabel)\n",
    "ax.spines['top'].set_visible(False)\n",
    "ax.spines['bottom'].set_visible(False)\n",
    "ax.spines['left'].set_visible(False)\n",
    "ax.spines['right'].set_visible(False)\n",
    "ax.legend(frameon=False);"
   ]
  },
  {
   "cell_type": "markdown",
   "metadata": {
    "id": "4d141eff-aec0-40f5-bb28-9928b3a14c05"
   },
   "source": [
    "#### Calculating Mean, Median, Mode, Min, Max, Standard Deviation, and Skew"
   ]
  },
  {
   "cell_type": "code",
   "execution_count": null,
   "metadata": {
    "id": "f1d3e0e1-09bb-452d-9529-3511808464dd"
   },
   "outputs": [],
   "source": [
    "mean = actuals_df2['y'].mean()\n",
    "median = actuals_df2['y'].median()\n",
    "mode = round(actuals_df2['y']).mode()[0].astype(int)\n",
    "min = actuals_df2['y'].min()\n",
    "max = actuals_df2['y'].max()\n",
    "std = actuals_df2['y'].std()\n",
    "skew = actuals_df2['y'].skew()\n",
    "\n",
    "ct_data = [{'Mean': round(mean), 'Median': round(median), 'Min': round(min), 'Max': round(max), 'Mode': round(mode), 'Std': round(std), 'Skew': skew}] \n",
    "ct_df = pd.DataFrame(ct_data)\n",
    "ct_df = ct_df.style.set_properties(**{'text-align': 'center'}).hide_index()"
   ]
  },
  {
   "cell_type": "markdown",
   "metadata": {
    "id": "d434578a-b357-49d9-adfb-5cbab8a00044"
   },
   "source": [
    "#### Plotting Central Tendency"
   ]
  },
  {
   "cell_type": "code",
   "execution_count": null,
   "metadata": {
    "id": "08403265-f578-42a3-abec-afd822720b26"
   },
   "outputs": [],
   "source": [
    "ax = plt.subplot(frameon=False)\n",
    "ax.hist(actuals_df2['y'], bins = 15, color = '#4B6BAF', edgecolor = 'black')\n",
    "ax.set_xlabel('Revenue', size = 10)\n",
    "ax.set_ylabel('Frequency', size= 1) \n",
    "plt.axvline(mean, color='k', linestyle='dashed', linewidth=1)\n",
    "plt.axvline(median, color='k', linestyle='solid', linewidth=1)\n",
    "plt.axvline(mode, color='k', linestyle='solid', linewidth=1)\n",
    "plt.text(median-.25,18,'Median',rotation=90)\n",
    "plt.text(mean-.25,18,'Mean',rotation=90)\n",
    "plt.text(mode-.25,18,'Mode',rotation=90)\n",
    "plt.tight_layout()\n",
    "plt.show();\n",
    "ct_df"
   ]
  },
  {
   "cell_type": "markdown",
   "metadata": {},
   "source": [
    "Understanding central tendency is important to any times series analysis, as it gives the user a first look at the data's shape and behavior."
   ]
  },
  {
   "cell_type": "markdown",
   "metadata": {
    "id": "96aa61bc-4cc9-4ad1-bbee-0a2a8d03c262"
   },
   "source": [
    "### Normalize Data Using Measures of Central Tendency"
   ]
  },
  {
   "cell_type": "markdown",
   "metadata": {
    "id": "7ede98fa-170a-4ad2-925e-d195c9c57217"
   },
   "source": [
    "Many datasets tend to have missing data and/or statistical outliers that can increase error and skew model results.  By calculating measures of central tendency like mean, median, and mode, we can learn more about the data we are working with and potentially replace those outliers and/or missing values with a value like mean, which can ultimately reduce our error.  Unlike many other models, Prophet also accepts replacing outliers with \"None\"."
   ]
  },
  {
   "cell_type": "code",
   "execution_count": null,
   "metadata": {
    "id": "488e63dd-b176-4b35-9e0e-a4b737003885"
   },
   "outputs": [],
   "source": [
    "actuals_df['moving_average'] = actuals_df.rolling(window=26, min_periods=1, center=True, on='ds')['y'].mean()\n",
    "actuals_df['std_dev'] = actuals_df.rolling(window=26, min_periods=1, center=True, on='ds')['y'].std()\n",
    "actuals_df['lower'] = actuals_df['moving_average'] - 1.645 * actuals_df['std_dev']\n",
    "actuals_df['upper'] = actuals_df['moving_average'] + 1.645 * actuals_df['std_dev']"
   ]
  },
  {
   "cell_type": "code",
   "execution_count": null,
   "metadata": {
    "id": "85c1fb42-a5df-4245-8135-fbdfffb5c02e"
   },
   "outputs": [],
   "source": [
    "actuals_df2 = actuals_df.copy()\n",
    "\n",
    "x = np.array(actuals_df2['ds'])\n",
    "actuals = actuals_df2['y']\n",
    "lower = np.array(actuals_df2['lower'])\n",
    "upper = np.array(actuals_df2['upper'])\n",
    "\n",
    "fig, ax1 = plt.subplot(figsize=(15,7))\n",
    "\n",
    "actuals_df2 = actuals_df2.set_index('ds')\n",
    "year_begin = actuals_df2.index.year[0].astype(str)\n",
    "year_end = actuals_df2.index.year[-1].astype(str)\n",
    "    \n",
    "title='X MA Revenue Outliers \\n' + year_begin + ' - ' + year_end\n",
    "ylabel='Revenue (millions)'\n",
    "xlabel=''\n",
    "\n",
    "ax1.set_title(title)\n",
    "ax1.set(ylabel=ylabel)\n",
    "\n",
    "ax1.plot(x, actuals, color='#4B6BAF',label='_nolegend_',marker='o')\n",
    "ax1.plot(x, lower, color='#FF0066' ,alpha=0.5,label='_nolegend_',marker='.')\n",
    "ax1.plot(x, upper, color='#FF0066', alpha=0.5, label='_nolegend_',marker='.')\n",
    "ax1.fill_between(x, lower, upper, where=(lower < upper), color='#808080', alpha=0.05)\n",
    "\n",
    "ax1.spines['top'].set_visible(False)\n",
    "ax1.spines['bottom'].set_visible(False)\n",
    "ax1.spines['left'].set_visible(False)\n",
    "ax1.spines['right'].set_visible(False)\n",
    "\n",
    "ax1.autoscale(axis='ds',tight=True)\n",
    "\n",
    "months = mdates.MonthLocator()\n",
    "ax1.xaxis.set_minor_locator(months);\n",
    "\n",
    "actuals_df.loc[((actuals_df['y'] > actuals_df['upper']) | (actuals_df['y'] < actuals_df['lower']))]"
   ]
  },
  {
   "cell_type": "markdown",
   "metadata": {
    "id": "78bee82b-9646-4896-a250-207be9fec495"
   },
   "source": [
    "#### Normalizing Data"
   ]
  },
  {
   "cell_type": "markdown",
   "metadata": {},
   "source": [
    "The following line assigns None values to all actuals that fall outside pink margin of error above.  Once the outliers are removed, we can begin modeling."
   ]
  },
  {
   "cell_type": "code",
   "execution_count": 50,
   "metadata": {
    "id": "13d89e17-678e-4d97-be26-cb68caf298fa"
   },
   "outputs": [],
   "source": [
    "actuals_df.loc[((actuals_df['y'] > actuals_df['upper']) | (actuals_df['y'] < actuals_df['lower'])), 'y'] = None"
   ]
  },
  {
   "cell_type": "markdown",
   "metadata": {},
   "source": [
    "### 3 Rounds of Modeling"
   ]
  },
  {
   "cell_type": "markdown",
   "metadata": {},
   "source": [
    "To make things interesting, I have created 3 rounds of modeling: the first, fits the model with no regressors or custom seasonality.  The second, uses the hw regressor but has no custom seasonality.  The third, has both the hw regressor and the custom 26-month seasonality incorporated."
   ]
  },
  {
   "cell_type": "markdown",
   "metadata": {
    "id": "7e42a4fe-59be-42a6-96e0-c6c0edede001"
   },
   "source": [
    "#### Round 1"
   ]
  },
  {
   "cell_type": "markdown",
   "metadata": {
    "id": "4b270a02-e569-4d5e-b481-65a710c4b3ca"
   },
   "source": [
    "After normalization, Without tuning any paremeters"
   ]
  },
  {
   "cell_type": "code",
   "execution_count": 51,
   "metadata": {
    "id": "a371814b-eed2-4875-9516-f1d78b64d9c2"
   },
   "outputs": [
    {
     "ename": "NameError",
     "evalue": "name 'Prophet' is not defined",
     "output_type": "error",
     "traceback": [
      "\u001b[0;31m---------------------------------------------------------------------------\u001b[0m",
      "\u001b[0;31mNameError\u001b[0m                                 Traceback (most recent call last)",
      "Input \u001b[0;32mIn [51]\u001b[0m, in \u001b[0;36m<cell line: 1>\u001b[0;34m()\u001b[0m\n\u001b[0;32m----> 1\u001b[0m model \u001b[38;5;241m=\u001b[39m \u001b[43mProphet\u001b[49m()\n\u001b[1;32m      2\u001b[0m model\u001b[38;5;241m.\u001b[39mfit(actuals_df)\n\u001b[1;32m      3\u001b[0m future_df \u001b[38;5;241m=\u001b[39m model\u001b[38;5;241m.\u001b[39mmake_future_dataframe(periods\u001b[38;5;241m=\u001b[39m\u001b[38;5;241m0\u001b[39m,freq\u001b[38;5;241m=\u001b[39m\u001b[38;5;124m'\u001b[39m\u001b[38;5;124mM\u001b[39m\u001b[38;5;124m'\u001b[39m)\n",
      "\u001b[0;31mNameError\u001b[0m: name 'Prophet' is not defined"
     ]
    }
   ],
   "source": [
    "model = Prophet()\n",
    "model.fit(actuals_df)\n",
    "future_df = model.make_future_dataframe(periods=0,freq='M')\n",
    "forecast = model.predict(future_df)"
   ]
  },
  {
   "cell_type": "markdown",
   "metadata": {
    "id": "10f7cea4-9d39-4794-8484-fac85197ce54"
   },
   "source": [
    "Text about this function that makes a compare table"
   ]
  },
  {
   "cell_type": "code",
   "execution_count": 52,
   "metadata": {},
   "outputs": [],
   "source": [
    "def compare(actuals_df,forecast_df):\n",
    "    \n",
    "    actuals  = actuals_df[['ds','y']][:-(months_out-1)].set_index('ds',drop=True)\n",
    "    forecast = forecast_df[['ds','yhat']][:-(months_out-1)].set_index('ds',drop=True)\n",
    "    compare  = pd.concat([actuals, forecast], axis=1)\n",
    "    compare.columns = ['Actuals','Forecast']    \n",
    "    \n",
    "    year_begin = compare.index.year[0].astype(str)\n",
    "    year_end = compare.index.year[-1].astype(str)\n",
    "    \n",
    "    title='X MA Actuals vs. Forecasted Revenue \\n' + year_begin + ' - ' + year_end\n",
    "    ylabel='Revenue (millions)'\n",
    "    xlabel=''\n",
    "    \n",
    "    ax = compare['Actuals'].plot(legend=True,figsize=(15,6),title=title,label='Actuals',marker='o',color='#4B6BAF')\n",
    "    ax2 = compare['Forecast'].plot(legend=True, label='Forecast',marker='o',color='#FF0066')\n",
    "    \n",
    "    ax.autoscale(axis='x',tight=True)\n",
    "    ax.set(xlabel=xlabel, ylabel=ylabel)\n",
    "    ax.spines['top'].set_visible(False)\n",
    "    ax.spines['bottom'].set_visible(False)\n",
    "    ax.spines['left'].set_visible(False)\n",
    "    ax.spines['right'].set_visible(False)\n",
    "    ax.legend(frameon=False);\n",
    "    \n",
    "    return compare"
   ]
  },
  {
   "cell_type": "code",
   "execution_count": 53,
   "metadata": {
    "id": "aa530a5e-97d5-4b1c-9212-0f48c29a6702"
   },
   "outputs": [
    {
     "ename": "NameError",
     "evalue": "name 'forecast' is not defined",
     "output_type": "error",
     "traceback": [
      "\u001b[0;31m---------------------------------------------------------------------------\u001b[0m",
      "\u001b[0;31mNameError\u001b[0m                                 Traceback (most recent call last)",
      "Input \u001b[0;32mIn [53]\u001b[0m, in \u001b[0;36m<cell line: 1>\u001b[0;34m()\u001b[0m\n\u001b[0;32m----> 1\u001b[0m compare(actuals_df,\u001b[43mforecast\u001b[49m)\u001b[38;5;241m.\u001b[39mtail(\u001b[38;5;241m6\u001b[39m)\n",
      "\u001b[0;31mNameError\u001b[0m: name 'forecast' is not defined"
     ]
    }
   ],
   "source": [
    "compare(actuals_df,forecast).tail(6)"
   ]
  },
  {
   "cell_type": "code",
   "execution_count": 54,
   "metadata": {
    "id": "77a2e295-43d4-4ed8-b507-0a67f18722e1"
   },
   "outputs": [
    {
     "ename": "NameError",
     "evalue": "name 'model' is not defined",
     "output_type": "error",
     "traceback": [
      "\u001b[0;31m---------------------------------------------------------------------------\u001b[0m",
      "\u001b[0;31mNameError\u001b[0m                                 Traceback (most recent call last)",
      "Input \u001b[0;32mIn [54]\u001b[0m, in \u001b[0;36m<cell line: 1>\u001b[0;34m()\u001b[0m\n\u001b[0;32m----> 1\u001b[0m \u001b[43mmodel\u001b[49m\u001b[38;5;241m.\u001b[39mplot_components(forecast)\n",
      "\u001b[0;31mNameError\u001b[0m: name 'model' is not defined"
     ]
    }
   ],
   "source": [
    "model.plot_components(forecast);"
   ]
  },
  {
   "cell_type": "code",
   "execution_count": 55,
   "metadata": {
    "id": "99f4a223-b611-4e70-a1f4-06e3e6243bd1"
   },
   "outputs": [],
   "source": [
    "def accuracy(model,months_out):\n",
    "    \n",
    "    cv_df = cross_validation(model, horizon  = str(30.4167*months_out) + ' days'\n",
    "                                  , period   = str(30.4167) + ' days'\n",
    "                                  , parallel ='processes')\n",
    "    pm_df = performance_metrics(cv_df)\n",
    "    \n",
    "    pm_df['accuracy'] = (1 - pm_df['mape']).round(3)\n",
    "    pm_df['days out'] = pm_df['horizon']\n",
    "    pm_df['months out'] = pm_df['months out'] = (((pm_df['horizon'].astype(str).str[:3].str.strip().str.replace(' d','').astype(int))/30).round(3)).astype(str)\n",
    "    pm_df['months out'] = pm_df['months out'].astype(float).astype(int)\n",
    "    pm_df['Forecast Model'] = 'X MA'\n",
    "    pm_df = pm_df[['Forecast Model', 'days out', 'months out', 'mse', 'rmse', 'mae', 'mape', 'mdape', 'coverage','accuracy']]\n",
    "    pm_df.columns = ['Forecast Model', 'Days Out', 'Months Out', 'MSE', 'RMSE', 'MAE', 'MAPE', 'MDAPE', 'Coverage', 'Accuracy']\n",
    "    \n",
    "    return pm_df.groupby(['Forecast Model','Months Out'], as_index=False).mean()"
   ]
  },
  {
   "cell_type": "code",
   "execution_count": null,
   "metadata": {
    "id": "b9865366-a3b6-4f60-bcc2-aa9292663961"
   },
   "outputs": [],
   "source": [
    "accuracy_results1 = accuracy(model,months_out)\n",
    "accuracy_results1.head(10)"
   ]
  },
  {
   "cell_type": "markdown",
   "metadata": {},
   "source": [
    "So, not bad for the first round.  The fit isn't great but we still are able to hover around a 90% accuracy, which is an average of multiple lines with the same months out count."
   ]
  },
  {
   "cell_type": "markdown",
   "metadata": {
    "id": "6672cb71-877d-45a3-b9b7-82e692b24d0b"
   },
   "source": [
    "#### Round 2"
   ]
  },
  {
   "cell_type": "code",
   "execution_count": null,
   "metadata": {
    "id": "b9df78ed-87c7-49f9-97b3-9dc4e9247000"
   },
   "outputs": [],
   "source": [
    "model = Prophet()\n",
    "model.add_regressor('hw')\n",
    "model.fit(actuals_df)\n",
    "future_df = actuals_df[['ds','hw']]\n",
    "forecast = model.predict(future_df)"
   ]
  },
  {
   "cell_type": "code",
   "execution_count": null,
   "metadata": {
    "id": "dfa3c0ec-8b06-4154-8ff6-34f924764c4a"
   },
   "outputs": [],
   "source": [
    "compare(actuals_df,forecast).tail(6)"
   ]
  },
  {
   "cell_type": "code",
   "execution_count": null,
   "metadata": {
    "id": "165a09eb-80e3-49c0-9338-a9a21292aae0"
   },
   "outputs": [],
   "source": [
    "model.plot_components(forecast);"
   ]
  },
  {
   "cell_type": "code",
   "execution_count": null,
   "metadata": {
    "id": "59447b9f-fb5d-4193-b4de-59d6d4f931a6"
   },
   "outputs": [],
   "source": [
    "accuracy_results2 = accuracy(model,months_out)\n",
    "accuracy_results2.head(12)"
   ]
  },
  {
   "cell_type": "markdown",
   "metadata": {},
   "source": [
    "Round 2 was a little bit better.  We went from 90% to about roughly 92% due to the regressor, which was able to hit on historically high and low sales months.  However, the numbers are inconsistent.  We would expect to see a slow predictable decline in accuracy over time.  In this case, 90 - 93% creates a range of variance that raises eyebrows."
   ]
  },
  {
   "cell_type": "markdown",
   "metadata": {
    "id": "71731da3-6b65-45db-8d5a-c797d3275c36"
   },
   "source": [
    "#### Round 3"
   ]
  },
  {
   "cell_type": "code",
   "execution_count": null,
   "metadata": {
    "id": "c2ec4ef3-e530-4722-a82e-b8b6e13a99ee"
   },
   "outputs": [],
   "source": [
    "model = Prophet(yearly_seasonality=4)\n",
    "model.add_seasonality(name='2-Year Z Cycle',\n",
    "                      period= (26/12) * 365.25,\n",
    "                      fourier_order=4)\n",
    "model.add_regressor('hw')\n",
    "model.fit(actuals_df)\n",
    "future_df = actuals_df[['ds','hw']]\n",
    "forecast = model.predict(future_df)"
   ]
  },
  {
   "cell_type": "code",
   "execution_count": null,
   "metadata": {
    "id": "b9d61736-44f4-425d-b783-5de74b9185c3"
   },
   "outputs": [],
   "source": [
    "compare(actuals_df,forecast).tail(6)"
   ]
  },
  {
   "cell_type": "code",
   "execution_count": null,
   "metadata": {
    "id": "38b7dd56-0cc4-4250-bc32-f8c3681a1b12"
   },
   "outputs": [],
   "source": [
    "model.plot_components(forecast);"
   ]
  },
  {
   "cell_type": "code",
   "execution_count": null,
   "metadata": {
    "id": "88131212-67a7-41fd-9496-5637deeb0b9f"
   },
   "outputs": [],
   "source": [
    "accuracy_results3 = accuracy(model,months_out)\n",
    "accuracy_results3.head(12)"
   ]
  },
  {
   "cell_type": "markdown",
   "metadata": {},
   "source": [
    "Round 3 by far yielded the best results so far.  By incorporating custom seasonality, the hw regressor, and a few tuning parameteres like Fourier Order, we were able to achieve a consistent 93%.  Now that we have a winning model, we can forecast into the future."
   ]
  },
  {
   "cell_type": "markdown",
   "metadata": {
    "id": "47a3f952-446e-416f-9c2f-07a8a3c54e6b"
   },
   "source": [
    "## 5. Forecast"
   ]
  },
  {
   "cell_type": "markdown",
   "metadata": {
    "id": "efcba54d-d393-4b9e-88e7-5e5f552a6a6b"
   },
   "source": [
    "Once we are confident in our test, train, split results, the model is now fit to the entire dataset and a forecast in created that now goes beyond the test set by the number of months out we specified at the beginning of the notebook.  Notice how the .fit function now contains our original df instead of the training set."
   ]
  },
  {
   "cell_type": "code",
   "execution_count": null,
   "metadata": {
    "id": "617d73a9-8c3d-464f-88b1-50b7db7fb8a2"
   },
   "outputs": [],
   "source": [
    "model = Prophet(yearly_seasonality=4)\n",
    "model.add_seasonality(name='2-Year Z Cycle',\n",
    "                      period= (26/12) * 365.25,\n",
    "                      fourier_order=4)\n",
    "model.add_regressor('hw')\n",
    "model.fit(actuals_df)\n",
    "future_df = actuals_df[['ds','hw']]\n",
    "#future_df = model.make_future_dataframe(periods=0,freq='M')\n",
    "forecast = model.predict(future_df)"
   ]
  },
  {
   "cell_type": "code",
   "execution_count": null,
   "metadata": {
    "id": "edf962ec-421e-49ba-937d-17005b29e9a3"
   },
   "outputs": [],
   "source": [
    "actuals_df3 = actuals_df.copy()\n",
    "actuals_df3 = actuals_df3[['ds','y']][:-35 + months_out].set_index('ds',drop=True)\n",
    "forecast3 = forecast.copy()\n",
    "forecast3 = forecast3[['ds','yhat']][:-35 + months_out].set_index('ds',drop=True)\n",
    "compare3  = pd.concat([actuals_df3, forecast3], axis=1).reset_index(drop=False)\n",
    "compare3 =  compare3[['ds','y','yhat']]\n",
    "compare3.columns = ['Date','Actuals','Forecast'] \n",
    "compare3['Year'] = compare3['Date'].dt.year.astype(str)\n",
    "compare3['Quarter'] = compare3['Date'].dt.quarter.astype(str)\n",
    "compare3['Period'] = compare3['Quarter'] + 'Q' + compare3['Year'].str[-2:]\n",
    "compare3 = compare3.groupby(['Year','Quarter','Period'],as_index=False).sum()\n",
    "compare3 = compare3[['Period','Actuals','Forecast']]"
   ]
  },
  {
   "cell_type": "code",
   "execution_count": null,
   "metadata": {},
   "outputs": [],
   "source": [
    "forecast['product_cycle'] = forecast['2-Year Z Cycle'] + forecast['trend']"
   ]
  },
  {
   "cell_type": "code",
   "execution_count": null,
   "metadata": {
    "id": "193d77b6-a9b5-4acb-86ab-9c65518d98ae"
   },
   "outputs": [],
   "source": [
    "x = np.array(forecast['ds'])\n",
    "x2 = np.array(actuals_df['ds'])\n",
    "actuals = actuals_df['y']\n",
    "y_lower = np.array(forecast['yhat_lower'])\n",
    "y_upper = np.array(forecast['yhat_upper'])\n",
    "y_hat = forecast['yhat']\n",
    "trend = forecast['trend']\n",
    "product_cycle = forecast['2-Year Z Cycle'] + forecast['trend']\n",
    "\n",
    "fig, ax1 = plt.subplots(figsize=(15,7))\n",
    "\n",
    "year_begin = forecast.set_index('ds').index.year[0].astype(str)\n",
    "year_end = forecast.set_index('ds').index.year[-1].astype(str)\n",
    "    \n",
    "title='Projected X Revenue \\n' + year_begin + ' - ' + year_end\n",
    "\n",
    "ax1.set_title(title)\n",
    "ax1.set(ylabel='Revenue (Millions)')\n",
    "ax1.plot(x, y_lower, color='#4B6BAF' ,alpha=0.1,label='_nolegend_')\n",
    "ax1.plot(x, y_upper, color='#4B6BAF', alpha=0.1, label='_nolegend_')\n",
    "ax1.plot(x, y_hat, color='#4B6BAF', alpha=None)\n",
    "ax1.plot(x2, actuals, '.',color='black')\n",
    "ax1.plot(x, trend, '--',color='red')\n",
    "ax1.plot(x2, product_cycle, '-',color='red')\n",
    "ax1.fill_between(x, y_lower, y_upper, where=(y_lower < y_upper), color='#4B6BAF', alpha=0.2)\n",
    " \n",
    "ax1.legend(['Forecast','Actuals','Trend Change Points','Margin of Error'],frameon=False)\n",
    "ax1.spines['top'].set_visible(False)\n",
    "ax1.spines['bottom'].set_visible(False)\n",
    "ax1.spines['left'].set_visible(False)\n",
    "ax1.spines['right'].set_visible(False)\n",
    "\n",
    "ax1.autoscale(axis='ds',tight=True)\n",
    "\n",
    "months = mdates.MonthLocator()\n",
    "ax1.xaxis.set_minor_locator(months);\n",
    "\n",
    "compare3.tail(12)"
   ]
  },
  {
   "cell_type": "markdown",
   "metadata": {
    "id": "9088e432-7604-4155-a0be-96782d7bc922"
   },
   "source": [
    "## 6. Format & Export Results to CSV"
   ]
  },
  {
   "cell_type": "markdown",
   "metadata": {
    "id": "3a06d711-a204-4b71-bb50-eb19adfbd0a3"
   },
   "source": [
    "#### Format Forecast & Accuracy DataFrames"
   ]
  },
  {
   "cell_type": "markdown",
   "metadata": {
    "id": "376a0fbd-4a46-42fa-8d82-b43c648be2c1"
   },
   "source": [
    "Here we format the forecast dataframe to have year, quarter, month, geo, and platform column so we can reference them in the TSS WW excel revenue model via a SUMIFS function. Finally, the forecast_df.to_csv function exports that table to our Box folder destination as a csv file."
   ]
  },
  {
   "cell_type": "code",
   "execution_count": null,
   "metadata": {
    "id": "d1d6a5da-1d9b-4238-af2b-4cde659a5d1f"
   },
   "outputs": [],
   "source": [
    "forecast_df = forecast[['ds','trend','product_cycle','yhat_lower','yhat_upper','yhat']]"
   ]
  },
  {
   "cell_type": "code",
   "execution_count": null,
   "metadata": {
    "id": "5038781b-0406-447a-9f90-9548bd4cc34b"
   },
   "outputs": [],
   "source": [
    "pd.options.mode.chained_assignment = None\n",
    "forecast_df['Year'] = forecast_df['ds'].dt.year\n",
    "forecast_df['Month'] = forecast_df['ds'].dt.month\n",
    "forecast_df['Quarter'] = forecast_df['ds'].dt.quarter\n",
    "forecast_df['Product'] = 'X'\n",
    "forecast_df['Geo'] = 'WW'"
   ]
  },
  {
   "cell_type": "code",
   "execution_count": null,
   "metadata": {
    "id": "2dfa93b2-efb9-4cc0-bfe3-23da6534ba75"
   },
   "outputs": [],
   "source": [
    "forecast_df['Quarter'] = forecast_df['Quarter'].astype(str)\n",
    "forecast_df['Quarter'] = \"Q\" + forecast_df['Quarter']"
   ]
  },
  {
   "cell_type": "code",
   "execution_count": null,
   "metadata": {
    "id": "9dd09139-5ea1-46ed-9ba1-c058f43044be"
   },
   "outputs": [],
   "source": [
    "forecast_df = forecast_df[['ds','Year','Quarter','Month','Geo','Product','trend','product_cycle','yhat_lower','yhat_upper','yhat']]\n",
    "forecast_df.columns = ['Date','Year','Quarter','Month','Geo','Product','Trend','Product Cycle','Lower Margin','Upper Margin','Revenue']"
   ]
  },
  {
   "cell_type": "code",
   "execution_count": null,
   "metadata": {
    "id": "72760c6d8d4a4eb58c0b65e055ce534a"
   },
   "outputs": [],
   "source": [
    "accuracy_df = accuracy_results3[['Forecast Model', 'Months Out', 'MSE', 'RMSE', 'MAE', 'MAPE','MDAPE', 'Coverage', 'Accuracy']]"
   ]
  },
  {
   "cell_type": "markdown",
   "metadata": {
    "id": "89427a9b-346b-41f8-b52e-c270e67d7665"
   },
   "source": [
    "#### Export Test Data (Accuracy) to CSV"
   ]
  },
  {
   "cell_type": "code",
   "execution_count": null,
   "metadata": {
    "id": "74a3531a-bd65-48f6-a147-8b80fb9ced02"
   },
   "outputs": [],
   "source": [
    "forecast_df.to_csv('x_forecast.csv', index=False)"
   ]
  },
  {
   "cell_type": "code",
   "execution_count": null,
   "metadata": {
    "id": "1817c122093c477898098166a884ca8d"
   },
   "outputs": [],
   "source": [
    "accuracy_df.to_csv('x_accuracy.csv', index=False)"
   ]
  }
 ],
 "metadata": {
  "kernelspec": {
   "display_name": "Python 3 (ipykernel)",
   "language": "python",
   "name": "python3"
  },
  "language_info": {
   "codemirror_mode": {
    "name": "ipython",
    "version": 3
   },
   "file_extension": ".py",
   "mimetype": "text/x-python",
   "name": "python",
   "nbconvert_exporter": "python",
   "pygments_lexer": "ipython3",
   "version": "3.9.12"
  }
 },
 "nbformat": 4,
 "nbformat_minor": 4
}
